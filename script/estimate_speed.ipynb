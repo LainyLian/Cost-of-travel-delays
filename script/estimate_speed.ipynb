{
 "cells": [
  {
   "cell_type": "markdown",
   "metadata": {},
   "source": [
    "# This notebook is for interpreting map-matching results and calculating traffic speed"
   ]
  },
  {
   "cell_type": "code",
   "execution_count": 1,
   "metadata": {},
   "outputs": [
    {
     "name": "stdout",
     "output_type": "stream",
     "text": [
      "3.9.12\n",
      "3.9.12\n",
      "geopandas version: 0.11.0\n",
      "pandas version: 1.4.3\n",
      "numpy version: 1.22.4\n",
      "shapely version: 1.8.2\n",
      "matplotlib version: 3.5.1\n"
     ]
    }
   ],
   "source": [
    "import os\n",
    "import geopandas as gpd\n",
    "# from shapely.geometry import LineString\n",
    "import pandas as pd\n",
    "import numpy as np\n",
    "import shapely\n",
    "from shapely.geometry import Point\n",
    "import matplotlib\n",
    "import matplotlib.pyplot as plt\n",
    "from shapely import wkt\n",
    "from platform import python_version\n",
    "print(python_version())\n",
    "print(python_version())\n",
    "print(f\"geopandas version: {gpd.__version__}\")\n",
    "print(f\"pandas version: {pd.__version__}\")\n",
    "print(f\"numpy version: {np.__version__}\")\n",
    "print(f\"shapely version: {shapely.__version__}\")\n",
    "print(f\"matplotlib version: {matplotlib.__version__}\")"
   ]
  },
  {
   "cell_type": "code",
   "execution_count": 2,
   "metadata": {},
   "outputs": [],
   "source": [
    "import warnings\n",
    "from shapely.errors import ShapelyDeprecationWarning\n",
    "warnings.filterwarnings(\"ignore\", category=ShapelyDeprecationWarning)\n",
    "warnings.filterwarnings(action='ignore', category=pd.errors.PerformanceWarning)"
   ]
  },
  {
   "cell_type": "markdown",
   "metadata": {},
   "source": [
    "# 0 Set key paths"
   ]
  },
  {
   "cell_type": "code",
   "execution_count": 26,
   "metadata": {},
   "outputs": [],
   "source": [
    "mmgps_dir = '../data/map_matching_data/gps'\n",
    "mrdir = '../data/map_matching_data/mmresult'\n",
    "sp_dir = '../output'"
   ]
  },
  {
   "cell_type": "code",
   "execution_count": 27,
   "metadata": {},
   "outputs": [
    {
     "data": {
      "text/plain": [
       "(1, ['2021-05-02'])"
      ]
     },
     "execution_count": 27,
     "metadata": {},
     "output_type": "execute_result"
    }
   ],
   "source": [
    "datedir_ls = []\n",
    "for root, dirs, files in os.walk(mrdir):\n",
    "#     print(dirs)\n",
    "    for d in dirs:\n",
    "        datedir_ls.append(d)\n",
    "        \n",
    "len(datedir_ls), datedir_ls"
   ]
  },
  {
   "cell_type": "code",
   "execution_count": 28,
   "metadata": {},
   "outputs": [],
   "source": [
    "road=gpd.read_file(r'../data/map_matching_data/road/TomTomRoad2021_2326_seg_demo.shp')\n",
    "road['id'] = '_'+road['linkID'].astype(str)+road['VAL_DIR'].astype(str)+road['SEG_SEQ'].astype(str)"
   ]
  },
  {
   "cell_type": "code",
   "execution_count": 15,
   "metadata": {},
   "outputs": [
    {
     "data": {
      "text/plain": [
       "(14385, 11)"
      ]
     },
     "execution_count": 15,
     "metadata": {},
     "output_type": "execute_result"
    }
   ],
   "source": [
    "road.shape"
   ]
  },
  {
   "cell_type": "code",
   "execution_count": 16,
   "metadata": {},
   "outputs": [
    {
     "data": {
      "text/html": [
       "<div>\n",
       "<style scoped>\n",
       "    .dataframe tbody tr th:only-of-type {\n",
       "        vertical-align: middle;\n",
       "    }\n",
       "\n",
       "    .dataframe tbody tr th {\n",
       "        vertical-align: top;\n",
       "    }\n",
       "\n",
       "    .dataframe thead th {\n",
       "        text-align: right;\n",
       "    }\n",
       "</style>\n",
       "<table border=\"1\" class=\"dataframe\">\n",
       "  <thead>\n",
       "    <tr style=\"text-align: right;\">\n",
       "      <th></th>\n",
       "      <th>linkID</th>\n",
       "      <th>VAL_DIR</th>\n",
       "      <th>SEG_SEQ</th>\n",
       "      <th>source</th>\n",
       "      <th>target</th>\n",
       "      <th>NAME</th>\n",
       "      <th>ONEWAY</th>\n",
       "      <th>Shape_Leng</th>\n",
       "      <th>EDIT</th>\n",
       "      <th>id</th>\n",
       "      <th>geometry</th>\n",
       "    </tr>\n",
       "  </thead>\n",
       "  <tbody>\n",
       "    <tr>\n",
       "      <th>0</th>\n",
       "      <td>13440001065581</td>\n",
       "      <td>3</td>\n",
       "      <td>00</td>\n",
       "      <td>13440003382090</td>\n",
       "      <td>13440003414415</td>\n",
       "      <td>花圃街</td>\n",
       "      <td>B</td>\n",
       "      <td>64.475668</td>\n",
       "      <td>DUP</td>\n",
       "      <td>_13440001065581300</td>\n",
       "      <td>LINESTRING (836205.842 821527.835, 836200.176 ...</td>\n",
       "    </tr>\n",
       "    <tr>\n",
       "      <th>1</th>\n",
       "      <td>13440001074604</td>\n",
       "      <td>3</td>\n",
       "      <td>00</td>\n",
       "      <td>13440003445250</td>\n",
       "      <td>13440003445249</td>\n",
       "      <td>南昌街</td>\n",
       "      <td>B</td>\n",
       "      <td>64.091434</td>\n",
       "      <td>DUP</td>\n",
       "      <td>_13440001074604300</td>\n",
       "      <td>LINESTRING (835120.390 821432.966, 835117.732 ...</td>\n",
       "    </tr>\n",
       "    <tr>\n",
       "      <th>2</th>\n",
       "      <td>13440001074614</td>\n",
       "      <td>3</td>\n",
       "      <td>00</td>\n",
       "      <td>13440003373214</td>\n",
       "      <td>13440003437847</td>\n",
       "      <td>福榮街</td>\n",
       "      <td>B</td>\n",
       "      <td>97.860617</td>\n",
       "      <td>DUP</td>\n",
       "      <td>_13440001074614300</td>\n",
       "      <td>LINESTRING (835156.561 821151.376, 835081.875 ...</td>\n",
       "    </tr>\n",
       "    <tr>\n",
       "      <th>3</th>\n",
       "      <td>13440001074716</td>\n",
       "      <td>3</td>\n",
       "      <td>00</td>\n",
       "      <td>13440003373214</td>\n",
       "      <td>13440003450121</td>\n",
       "      <td>福榮街</td>\n",
       "      <td>B</td>\n",
       "      <td>76.271960</td>\n",
       "      <td>DUP</td>\n",
       "      <td>_13440001074716300</td>\n",
       "      <td>LINESTRING (835156.561 821151.376, 835201.733 ...</td>\n",
       "    </tr>\n",
       "    <tr>\n",
       "      <th>4</th>\n",
       "      <td>13440001093269</td>\n",
       "      <td>3</td>\n",
       "      <td>00</td>\n",
       "      <td>13440003379967</td>\n",
       "      <td>13440003379966</td>\n",
       "      <td>培德街</td>\n",
       "      <td>B</td>\n",
       "      <td>97.812135</td>\n",
       "      <td>DUP</td>\n",
       "      <td>_13440001093269300</td>\n",
       "      <td>LINESTRING (835091.827 821765.505, 835060.388 ...</td>\n",
       "    </tr>\n",
       "  </tbody>\n",
       "</table>\n",
       "</div>"
      ],
      "text/plain": [
       "           linkID VAL_DIR SEG_SEQ          source          target NAME ONEWAY  \\\n",
       "0  13440001065581       3      00  13440003382090  13440003414415  花圃街      B   \n",
       "1  13440001074604       3      00  13440003445250  13440003445249  南昌街      B   \n",
       "2  13440001074614       3      00  13440003373214  13440003437847  福榮街      B   \n",
       "3  13440001074716       3      00  13440003373214  13440003450121  福榮街      B   \n",
       "4  13440001093269       3      00  13440003379967  13440003379966  培德街      B   \n",
       "\n",
       "   Shape_Leng EDIT                  id  \\\n",
       "0   64.475668  DUP  _13440001065581300   \n",
       "1   64.091434  DUP  _13440001074604300   \n",
       "2   97.860617  DUP  _13440001074614300   \n",
       "3   76.271960  DUP  _13440001074716300   \n",
       "4   97.812135  DUP  _13440001093269300   \n",
       "\n",
       "                                            geometry  \n",
       "0  LINESTRING (836205.842 821527.835, 836200.176 ...  \n",
       "1  LINESTRING (835120.390 821432.966, 835117.732 ...  \n",
       "2  LINESTRING (835156.561 821151.376, 835081.875 ...  \n",
       "3  LINESTRING (835156.561 821151.376, 835201.733 ...  \n",
       "4  LINESTRING (835091.827 821765.505, 835060.388 ...  "
      ]
     },
     "execution_count": 16,
     "metadata": {},
     "output_type": "execute_result"
    }
   ],
   "source": [
    "road.head()"
   ]
  },
  {
   "cell_type": "markdown",
   "metadata": {},
   "source": [
    "# 1 Function of calculating speed"
   ]
  },
  {
   "cell_type": "code",
   "execution_count": 29,
   "metadata": {},
   "outputs": [],
   "source": [
    "# For calculating realtime speed for each trajectory (for each trjid)\n",
    "\n",
    "def RealtimeSpeedEstimation(gps_matched_out, cpath_out, trjid):\n",
    "\n",
    "    gps_matched_out['GPSID']=range(gps_matched_out.shape[0])\n",
    "    gps_matched_out['DateTime'] = pd.to_datetime(gps_matched_out['DateTime'])\n",
    "\n",
    "    t = gps_matched_out.set_index('DateTime')\n",
    "\n",
    "    # temp = t.groupby(pd.Grouper(freq = '5Min'), as_index=False).apply(lambda x: x['Speed'])\n",
    "\n",
    "    # gps_matched_out['t'] = pd.to_datetime(gps_matched_out['DateTime'] ).dt.time\n",
    "\n",
    "    gps_matched_out['t'] = (gps_matched_out['DateTime'].dt.hour*3600+gps_matched_out['DateTime'].dt.minute*60)//300*300\n",
    "\n",
    "    # Calculate road-level speed (by Huang Guan)\n",
    "    df1 = cpath_out[['id','Shape_Leng']]\n",
    "\n",
    "    df2 = gps_matched_out[['opath','Speed','t','DateTime','GPSID']]\n",
    "\n",
    "    df2 = df2.rename(columns={'opath':'id','Speed':'v'})\n",
    "\n",
    "    # df2['id'] = '_'+df2['id'].astype(str)\n",
    "\n",
    "    df2 = df2.groupby([(df2['id'].shift() != df2['id']).cumsum(),'t']).agg({'v':'mean','DateTime':'first','id':'first','GPSID':'count'})\n",
    "\n",
    "    df2 = df2[['id','v','DateTime','GPSID']]\n",
    "\n",
    "    df2.columns=[['id_raw','v','DateTime','GPSID']]\n",
    "\n",
    "    df2 = df2.reset_index([0,1]).drop('id',axis=1)\n",
    "\n",
    "    df2.columns=[['t','id','v','DateTime','GPSID']]\n",
    "\n",
    "    i=0\n",
    "    j=0\n",
    "    consequence_missing = 0\n",
    "    consequence_duration = 0\n",
    "    result = []\n",
    "\n",
    "    while i < df2.shape[0]-1:\n",
    "        # print(i)\n",
    "        right_id = df2.loc[i,'id'].values[0]\n",
    "        df1_temp = df1.loc[i+j:]\n",
    "        for k in range(df1_temp.shape[0]):\n",
    "            left_id = df1_temp.values[k, 0]\n",
    "            if left_id == right_id:\n",
    "                # print('same id', left_id,right_id,i, j,k)\n",
    "                if consequence_missing>0:\n",
    "                    consequence_duration2 = df2.loc[i,'DateTime']\n",
    "                    duration = int((consequence_duration2-consequence_duration).dt.total_seconds())\n",
    "                    consequence_duration = consequence_duration2\n",
    "                    sum_len = 0\n",
    "                    for m in range(consequence_missing):\n",
    "                        sum_len += result[-1-m][2]\n",
    "                    for m in range(consequence_missing):\n",
    "                        result[-1-m][2] = (sum_len/duration)*3.6  # for road segments that are not directly matched to a GPS point, get the speed (km/h) based on distance and duration traveled\n",
    "\n",
    "                    consequence_missing=0\n",
    "                else:\n",
    "                    consequence_duration = df2.loc[i,'DateTime']\n",
    "                result.append(df2.loc[i,:].to_list())\n",
    "                right_id_next = df2.loc[i + 1, 'id'].values[0]\n",
    "                if right_id_next == right_id:\n",
    "                    j -=1\n",
    "                i += 1\n",
    "                break\n",
    "            else:\n",
    "                # print('seg without gps', left_id, right_id, i, j, k)\n",
    "                result.append([np.nan,left_id,df1_temp.values[k, 1],np.nan])\n",
    "                j+=1\n",
    "                consequence_missing+=1\n",
    "\n",
    "    if df1_temp.values[k+1, 0]==df2.iloc[-1]['id']:\n",
    "        result.append(df2.iloc[-1].values)\n",
    "    else:\n",
    "        len_lastrows=0\n",
    "        for idx,row in df1_temp.iloc[k+1:].iterrows():\n",
    "            len_lastrows+=row['Shape_Leng']\n",
    "            result.append([np.nan,row['id'],row['Shape_Leng'],np.nan])\n",
    "\n",
    "        consequence_duration2 = df2.loc[i,'DateTime']\n",
    "        duration = int((consequence_duration2-consequence_duration).dt.total_seconds())\n",
    "        for x in range(-1*(df1_temp.shape[0]-k-1),0):\n",
    "            result[x][2] = (len_lastrows/duration)*3.6\n",
    "            \n",
    "    # result_df is the road-level speed estimation for the specific gps trajectory\n",
    "    result_df = pd.DataFrame(result,columns=['t','id','v','DateTime','GPSID'])\n",
    "\n",
    "    result_df['t']=result_df['t'].fillna(method='ffill')\n",
    "\n",
    "    result_df['trjid']=str(trjid)\n",
    "\n",
    "    return result_df"
   ]
  },
  {
   "cell_type": "markdown",
   "metadata": {},
   "source": [
    "# 2 Interpret map-matching results and calculate speed\n",
    "\n",
    "stmatch_{date}_demo.txt is the result file after running the map-matching algorithm. Meaning of ouput columns can be found here: https://fmm-wiki.github.io/docs/documentation/output\n"
   ]
  },
  {
   "cell_type": "code",
   "execution_count": 21,
   "metadata": {},
   "outputs": [
    {
     "data": {
      "text/plain": [
       "'../data/map_matching_data/mmresult/stmatch_stmatch_2021-05-02_demo.txt_demo.txt'"
      ]
     },
     "execution_count": 21,
     "metadata": {},
     "output_type": "execute_result"
    }
   ],
   "source": [
    "mrdir+'/stmatch_{}_demo.txt'.format(date)"
   ]
  },
  {
   "cell_type": "code",
   "execution_count": 25,
   "metadata": {},
   "outputs": [
    {
     "data": {
      "text/plain": [
       "'stmatch_2021-05-02_demo.txt'"
      ]
     },
     "execution_count": 25,
     "metadata": {},
     "output_type": "execute_result"
    }
   ],
   "source": [
    "date"
   ]
  },
  {
   "cell_type": "code",
   "execution_count": 24,
   "metadata": {},
   "outputs": [
    {
     "data": {
      "text/plain": [
       "'../data/map_matching_data/gps/gps_trj_stmatch_2021-05-02_demo.txt_demo.csv'"
      ]
     },
     "execution_count": 24,
     "metadata": {},
     "output_type": "execute_result"
    }
   ],
   "source": [
    "mmgps_dir+'/gps_trj_{}_demo.csv'.format(date)"
   ]
  },
  {
   "cell_type": "code",
   "execution_count": 32,
   "metadata": {},
   "outputs": [
    {
     "name": "stdout",
     "output_type": "stream",
     "text": [
      "2021-05-02\n",
      "not estimated\n",
      "not interpreted\n",
      "2021-05-02 GPS matching result is intepreted,\n",
      "GPS records from 1 devices/vehicles have been matched\n"
     ]
    }
   ],
   "source": [
    "''' Output the gps matching info and road traversed (IN USE!!!) '''\n",
    "\n",
    "gps_matched_ct_df_all=pd.DataFrame()\n",
    "\n",
    "for date in datedir_ls:\n",
    "    print(date)\n",
    "    \n",
    "    if not os.path.exists(sp_dir+'/'+date):\n",
    "        print('not estimated')\n",
    "        \n",
    "        if len(os.listdir(os.path.join(mrdir,date)))==1: # check if the match result has been interpreted. If true, only one file (the match result file) exists in the date folder. \n",
    "            \n",
    "            print('not interpreted')\n",
    "            gps = pd.read_csv(mmgps_dir+'/gps_trj_{}_demo.csv'.format(date),sep=';')\n",
    "\n",
    "            mr = pd.read_csv(mrdir+'/'+date+'/stmatch_{}_demo.txt'.format(date),sep=';')\n",
    "            mr = mr[mr['opath'].notnull()].reset_index(drop=True)\n",
    "            gps_matched_ct_ls = []\n",
    "            mr = mr.sort_values('id').reset_index(drop=True)\n",
    "            mr = mr[mr['id'].notnull()].reset_index(drop=True)\n",
    "\n",
    "            result_all = pd.DataFrame() # estimated real-time speed of all trajectories\n",
    "\n",
    "            for index, row in mr.iloc[:,:].iterrows():\n",
    "                trjid = row['id']\n",
    "                opath = row['opath']\n",
    "                error = row['error']\n",
    "                pgeom = row['pgeom']\n",
    "                cpath = row['cpath']\n",
    "\n",
    "                if type(cpath)==str:\n",
    "\n",
    "                    try:\n",
    "                        # If pgeom is valid, continue to the following code\n",
    "                        pgeom_line = wkt.loads(pgeom)\n",
    "                    except:\n",
    "                        # If pgeom only includes one point, wkt.loads will have exception (WKTReadingError)\n",
    "                        # Then, this matched result will not be proceeded\n",
    "                        continue\n",
    "\n",
    "                    pgeom_ls=[]\n",
    "                    for c in list(pgeom_line.coords):\n",
    "                        pgeom_ls.append(Point(c))\n",
    "\n",
    "                    opath_ls = opath.split(',')\n",
    "                    error_ls = error.split(',')\n",
    "\n",
    "                    cpath_ls = cpath.split(',')\n",
    "\n",
    "                    gps_mr = pd.DataFrame({'opath':opath_ls,'error':error_ls,'pgeom':pgeom_line})\n",
    "                    gps_mr['trj_id']=trjid\n",
    "\n",
    "                    gps_info = gps[gps['trjid']==trjid].reset_index(drop=True)\n",
    "\n",
    "                    gps_mrinfo = pd.concat([gps_mr, gps_info], axis=1)\n",
    "\n",
    "                    gps_mrinfo['opath'] = gps_mrinfo['opath'].astype('int64')\n",
    "                    gps_mrinfo['opath'] = '_'+ gps_mrinfo['opath'].astype(str)\n",
    "\n",
    "                    gps_mrinfo = gpd.GeoDataFrame(gps_mrinfo,geometry='pgeom')\n",
    "                    gps_mrinfo.crs='EPSG:2326'\n",
    "\n",
    "                    gps_matched_ct_ls.append([date,len(gps_mrinfo), trjid, gps_mrinfo.at[0,'DevIDNO']])\n",
    " \n",
    "                    cpath_df = pd.DataFrame({'cpath':cpath_ls})\n",
    "                    cpath_df['cpath'] = cpath_df['cpath'].astype('int64')\n",
    "                    cpath_df['cpath'] = '_'+cpath_df['cpath'].astype(str)\n",
    "\n",
    "                    cpath_out = cpath_df.merge(road, left_on='cpath', right_on='id', how='left')\n",
    "\n",
    "                    cpath_out = gpd.GeoDataFrame(cpath_out, geometry='geometry')\n",
    "                    cpath_out.crs='EPSG:2326'\n",
    "\n",
    "                    # Output: this is the roads traversed by No.trjid gps trajectory\n",
    "                    cpath_out = cpath_out[['id','linkID','VAL_DIR','SEG_SEQ', 'Shape_Leng','geometry']]\n",
    "\n",
    "                    result_df = RealtimeSpeedEstimation(gps_mrinfo, cpath_out, trjid) # realtime speed of one trajectory\n",
    "\n",
    "                    result_all=pd.concat([result_all, result_df], axis=0)\n",
    "                else:\n",
    "                    continue # invalid cpath, next trj\n",
    "                    \n",
    "        else:\n",
    "            result_all = pd.DataFrame() # estimated real-time speed of all trajectories\n",
    "            files=os.listdir(mrdir+'/'+date)\n",
    "            gpsmrinfo_ls=[ fi for fi in files if \"gps_mrinfo\" in fi]\n",
    "            \n",
    "            result_all = pd.DataFrame() # estimated real-time speed\n",
    "            \n",
    "            for g in gpsmrinfo_ls:\n",
    "                # print(g)\n",
    "                trjid = g.replace('gps_mrinfo_','').replace('.csv','')\n",
    "\n",
    "                gps_matched_out = pd.read_csv(mrdir+'/'+date+'/'+g)\n",
    "                cpath_out = pd.read_csv(mrdir+'/'+date+'/'+g.replace('gps_mrinfo','cpath'))\n",
    "                \n",
    "                # Estimate realtime speed\n",
    "                result_df = RealtimeSpeedEstimation(gps_matched_out, cpath_out, trjid)\n",
    "                result_all=pd.concat([result_all, result_df], axis=0)\n",
    "            print('interpreted')\n",
    "            \n",
    "            # If the match result was interpreted, read the capth and gps_mr_\n",
    "\n",
    "        print('{} GPS matching result is intepreted,\\nGPS records from {} devices/vehicles have been matched'.format(date, mr.shape[0]))\n",
    "        \n",
    "        result_mean = result_all.groupby(['t','id']).agg({'v':'mean','trjid':['unique','nunique']}).reset_index() # averaging realtime speed records by segment and time slot\n",
    "\n",
    "        result_mean = result_mean.set_axis(['t', 'id', 'speed','trjid_u','trjid_n'], axis=1, inplace=False)\n",
    "        \n",
    "        try:\n",
    "            os.mkdir(sp_dir+'/'+date)\n",
    "        except:\n",
    "            print('Existing folder')\n",
    "\n",
    "        result_mean['trjid_u'] = result_mean['trjid_u'].astype(str)\n",
    "        \n",
    "        # 5minspeed_RepeatedVehicle_{}_demo.csv is the \n",
    "        result_mean.to_csv(sp_dir+'/'+date+'/5minspeed_RepeatedVehicle_{}_demo.csv'.format(date), index=False) # all roads with speed, no exclusion\n",
    "\n",
    "    else:\n",
    "        print('estimated')"
   ]
  },
  {
   "cell_type": "markdown",
   "metadata": {},
   "source": [
    "# 3 Plot the segment-level speed"
   ]
  },
  {
   "cell_type": "code",
   "execution_count": 33,
   "metadata": {},
   "outputs": [],
   "source": [
    "result_mean_gdf = result_mean.merge(road[['id','geometry']], on='id', how='left')\n",
    "result_mean_gdf = gpd.GeoDataFrame(result_mean_gdf,geometry='geometry')\n",
    "result_mean_gdf.crs = 'EPSG:2326'"
   ]
  },
  {
   "cell_type": "code",
   "execution_count": 34,
   "metadata": {},
   "outputs": [
    {
     "data": {
      "text/html": [
       "<div>\n",
       "<style scoped>\n",
       "    .dataframe tbody tr th:only-of-type {\n",
       "        vertical-align: middle;\n",
       "    }\n",
       "\n",
       "    .dataframe tbody tr th {\n",
       "        vertical-align: top;\n",
       "    }\n",
       "\n",
       "    .dataframe thead th {\n",
       "        text-align: right;\n",
       "    }\n",
       "</style>\n",
       "<table border=\"1\" class=\"dataframe\">\n",
       "  <thead>\n",
       "    <tr style=\"text-align: right;\">\n",
       "      <th></th>\n",
       "      <th>t</th>\n",
       "      <th>id</th>\n",
       "      <th>speed</th>\n",
       "      <th>trjid_u</th>\n",
       "      <th>trjid_n</th>\n",
       "      <th>geometry</th>\n",
       "    </tr>\n",
       "  </thead>\n",
       "  <tbody>\n",
       "    <tr>\n",
       "      <th>0</th>\n",
       "      <td>37800.0</td>\n",
       "      <td>_13440001214717200</td>\n",
       "      <td>60.602547</td>\n",
       "      <td>['78']</td>\n",
       "      <td>1</td>\n",
       "      <td>LINESTRING (839089.348 822439.142, 839077.937 ...</td>\n",
       "    </tr>\n",
       "    <tr>\n",
       "      <th>1</th>\n",
       "      <td>37800.0</td>\n",
       "      <td>_13440001366042201</td>\n",
       "      <td>75.000000</td>\n",
       "      <td>['78']</td>\n",
       "      <td>1</td>\n",
       "      <td>LINESTRING (839122.803 821840.437, 839126.122 ...</td>\n",
       "    </tr>\n",
       "  </tbody>\n",
       "</table>\n",
       "</div>"
      ],
      "text/plain": [
       "         t                  id      speed trjid_u  trjid_n  \\\n",
       "0  37800.0  _13440001214717200  60.602547  ['78']        1   \n",
       "1  37800.0  _13440001366042201  75.000000  ['78']        1   \n",
       "\n",
       "                                            geometry  \n",
       "0  LINESTRING (839089.348 822439.142, 839077.937 ...  \n",
       "1  LINESTRING (839122.803 821840.437, 839126.122 ...  "
      ]
     },
     "execution_count": 34,
     "metadata": {},
     "output_type": "execute_result"
    }
   ],
   "source": [
    "result_mean_gdf.head(2)"
   ]
  },
  {
   "cell_type": "code",
   "execution_count": 37,
   "metadata": {},
   "outputs": [
    {
     "data": {
      "text/plain": [
       "<AxesSubplot:>"
      ]
     },
     "execution_count": 37,
     "metadata": {},
     "output_type": "execute_result"
    },
    {
     "data": {
      "image/png": "[encoded data removed]",
      "text/plain": [
       "<Figure size 800x600 with 2 Axes>"
      ]
     },
     "metadata": {},
     "output_type": "display_data"
    }
   ],
   "source": [
    "fig, ax = plt.subplots(1, 1, figsize=(8, 6))  # Adjust the size as needed\n",
    "\n",
    "# Here we're using 'speed' column to determine the color of each line\n",
    "result_mean_gdf.plot(column='speed', ax=ax, legend=True,\n",
    "                     legend_kwds={'label': \"Speed (km/h)\",\n",
    "                                  'orientation': \"vertical\"})"
   ]
  }
 ],
 "metadata": {
  "kernelspec": {
   "display_name": "py39",
   "language": "python",
   "name": "python3"
  },
  "language_info": {
   "codemirror_mode": {
    "name": "ipython",
    "version": 3
   },
   "file_extension": ".py",
   "mimetype": "text/x-python",
   "name": "python",
   "nbconvert_exporter": "python",
   "pygments_lexer": "ipython3",
   "version": "3.9.12"
  }
 },
 "nbformat": 4,
 "nbformat_minor": 2
}
